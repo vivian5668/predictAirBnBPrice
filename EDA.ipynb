{
 "cells": [
  {
   "cell_type": "code",
   "execution_count": 216,
   "metadata": {},
   "outputs": [],
   "source": [
    "import pandas as pd\n",
    "import numpy as np\n",
    "import matplotlib.pyplot as plt\n",
    "%matplotlib inline\n",
    "plt.style.use('ggplot')\n",
    "\n",
    "from sklearn.model_selection import train_test_split\n",
    "from sklearn.linear_model import Lasso\n",
    "from sklearn.linear_model import Ridge\n",
    "from sklearn.linear_model import LinearRegression\n",
    "from sklearn.linear_model import ElasticNet\n",
    "from sklearn.ensemble import RandomForestRegressor\n",
    "from sklearn.metrics import mean_squared_log_error, mean_squared_error\n",
    "\n",
    "from sklearn.model_selection import GridSearchCV"
   ]
  },
  {
   "cell_type": "code",
   "execution_count": null,
   "metadata": {},
   "outputs": [],
   "source": [
    "train = pd.read_csv('data/train.csv')\n",
    "test = pd.read_csv('data/test.csv')"
   ]
  },
  {
   "cell_type": "code",
   "execution_count": null,
   "metadata": {},
   "outputs": [],
   "source": [
    "train.head(10).T"
   ]
  },
  {
   "cell_type": "code",
   "execution_count": null,
   "metadata": {},
   "outputs": [],
   "source": [
    "test.head(1)"
   ]
  },
  {
   "cell_type": "code",
   "execution_count": null,
   "metadata": {},
   "outputs": [],
   "source": [
    "# column names\n",
    "train.columns"
   ]
  },
  {
   "cell_type": "code",
   "execution_count": null,
   "metadata": {},
   "outputs": [],
   "source": [
    "# null value count for each column\n",
    "train.isnull().sum()"
   ]
  },
  {
   "cell_type": "code",
   "execution_count": null,
   "metadata": {},
   "outputs": [],
   "source": [
    "# unique values in each column\n",
    "train.apply(pd.Series.nunique)"
   ]
  },
  {
   "cell_type": "code",
   "execution_count": null,
   "metadata": {},
   "outputs": [],
   "source": [
    "# overview of data ranges, min, max, mean, etc.\n",
    "train.describe()"
   ]
  },
  {
   "cell_type": "code",
   "execution_count": null,
   "metadata": {},
   "outputs": [],
   "source": [
    "# data types of each column\n",
    "train.dtypes"
   ]
  },
  {
   "cell_type": "code",
   "execution_count": null,
   "metadata": {},
   "outputs": [],
   "source": [
    "#features with too many unique variables / provides low value and should be dropped\n",
    "# id, amenities, description, first_review, name, thumbnail_url\n",
    "train_processed = train.drop(['id', 'amenities', 'description', 'first_review', 'name', 'thumbnail_url'], axis=1)"
   ]
  },
  {
   "cell_type": "code",
   "execution_count": null,
   "metadata": {},
   "outputs": [],
   "source": [
    "# change date to numeric data type\n",
    "# host_since, last_review, \n",
    "train_processed['host_since'] = pd.to_datetime(train_processed['host_since'])\n",
    "train_processed['last_review'] = pd.to_datetime(train_processed['last_review'])"
   ]
  },
  {
   "cell_type": "code",
   "execution_count": 215,
   "metadata": {},
   "outputs": [
    {
     "data": {
      "text/plain": [
       "log_price                     0\n",
       "property_type                 0\n",
       "room_type                     0\n",
       "accommodates                  0\n",
       "bathrooms                     0\n",
       "bed_type                      0\n",
       "cancellation_policy           0\n",
       "cleaning_fee                  0\n",
       "city                          0\n",
       "host_has_profile_pic          0\n",
       "host_identity_verified        0\n",
       "host_response_rate            0\n",
       "host_since                    0\n",
       "instant_bookable              0\n",
       "last_review               15827\n",
       "latitude                      0\n",
       "longitude                     0\n",
       "neighbourhood                 0\n",
       "number_of_reviews             0\n",
       "review_scores_rating          0\n",
       "zipcode                       0\n",
       "bedrooms                      0\n",
       "beds                          0\n",
       "host_silast_reviewnce         0\n",
       "dtype: int64"
      ]
     },
     "execution_count": 215,
     "metadata": {},
     "output_type": "execute_result"
    }
   ],
   "source": [
    "# deal with NA\n",
    "train_processed['bathrooms'] = train_processed['bathrooms'].fillna(train_processed['bathrooms'].mean())\n",
    "train_processed['host_has_profile_pic'] = train_processed['host_has_profile_pic'].fillna('NA')\n",
    "train_processed['host_identity_verified'] = train_processed['host_identity_verified'].fillna('NA')\n",
    "train_processed['neighbourhood'] = train_processed['neighbourhood'].fillna('NA')\n",
    "\n",
    "train_processed['review_scores_rating'] = train_processed['review_scores_rating'].fillna(train_processed['review_scores_rating'].mean())\n",
    "\n",
    "# host response rate has percentages in text form, need to convert\n",
    "train_processed['host_response_rate'] = train_processed['host_response_rate'].str.rstrip('%').astype('float') / 100.0\n",
    "train_processed['host_response_rate'] = train_processed['host_response_rate'].fillna(train_processed['host_response_rate'].mean())\n",
    "\n",
    "\n",
    "train_processed['host_since'] = train_processed['host_since'].fillna('NA')\n",
    "train_processed['host_silast_reviewnce'] = train_processed['last_review'].fillna('NA')\n",
    "train_processed['zipcode'] = train_processed['zipcode'].fillna('NA')\n",
    "train_processed['host_since'] = train_processed['host_since'].fillna('NA')\n",
    "train_processed['last_review'] = train_processed['last_review'].fillna('NA')\n",
    "\n",
    "train_processed['bedrooms'] = train_processed['bedrooms'].fillna(train_processed['bedrooms'].mean())\n",
    "train_processed['beds'] = train_processed['beds'].fillna(train_processed['beds'].mean())\n",
    "\n",
    "train_processed.isnull().sum()\n"
   ]
  },
  {
   "cell_type": "code",
   "execution_count": null,
   "metadata": {},
   "outputs": [],
   "source": [
    "# one-hot encoding for categorical varuables\n",
    "# property_type, property_type, room_type, bed_type, cancellation_policy, \n",
    "# city, host_has_profile_pic, host_identity_verified, neighbourhood, \n",
    "\n",
    "#change categorical data into dummy variables, need to define a function so that \n",
    "#when new data comes into the pipeline, it can handle\n",
    "def make_dummies(test_col, train_unique_vals, col_name):\n",
    "    \"\"\"\n",
    "    Return a df containing len(train_unique_vals) columns for \n",
    "    each unique value in train_unique_vals. If the test_col has more \n",
    "    unique values that are not seen in train_unique_vals, value\n",
    "    will be 0\n",
    "    \"\"\"\n",
    "    dummies = {}\n",
    "    for val in train_unique_vals:\n",
    "        dummies[col_name + '_' + val] = (test_col == val).astype(int)\n",
    "    return pd.DataFrame(dummies, index = test_col.index)\n",
    "\n",
    "categories = ['property_type', 'room_type', 'bed_type', 'cancellation_policy', \n",
    "'city', 'host_has_profile_pic', 'host_identity_verified', 'neighbourhood' ]\n",
    "data_transformed = train_processed\n",
    "for category in categories:\n",
    "    temp_df = make_dummies(train_processed[category], train_processed[category].unique(), category)\n",
    "    data_transformed = pd.concat([train_processed, temp_df], axis = 1)\n",
    "    train_processed = data_transformed\n",
    "\n",
    "data_transformed.head()"
   ]
  },
  {
   "cell_type": "code",
   "execution_count": null,
   "metadata": {},
   "outputs": [],
   "source": [
    "def get_model_error(model, X, y, test_size):\n",
    "    trainX, testX, trainY, testY = train_test_split(X, y, test_size = test_size)\n",
    "    model.fit(trainX, trainY)\n",
    "    pred = model.predict(testX)\n",
    "    predX = model.predict(trainX)\n",
    "    print(np.sqrt(mean_squared_log_error(trainY, predX)),\n",
    "    np.sqrt(mean_squared_log_error(testY, pred)))\n",
    "    return np.sqrt(mean_squared_log_error(trainY, predX)), np.sqrt(mean_squared_log_error(testY, pred))"
   ]
  },
  {
   "cell_type": "code",
   "execution_count": null,
   "metadata": {},
   "outputs": [],
   "source": [
    "y = train.loc[:, 'log_price']\n",
    "X = train.drop(['log_price'], axis=1)\n",
    "\n",
    "model_rf = RandomForestRegressor(n_jobs = -1)\n",
    "get_model_error(model_rf, X, y, 0.3)"
   ]
  },
  {
   "cell_type": "code",
   "execution_count": null,
   "metadata": {},
   "outputs": [],
   "source": []
  }
 ],
 "metadata": {
  "kernelspec": {
   "display_name": "Python 3",
   "language": "python",
   "name": "python3"
  },
  "language_info": {
   "codemirror_mode": {
    "name": "ipython",
    "version": 3
   },
   "file_extension": ".py",
   "mimetype": "text/x-python",
   "name": "python",
   "nbconvert_exporter": "python",
   "pygments_lexer": "ipython3",
   "version": "3.6.5"
  }
 },
 "nbformat": 4,
 "nbformat_minor": 2
}
